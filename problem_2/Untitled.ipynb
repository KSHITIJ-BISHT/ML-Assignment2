{
 "cells": [
  {
   "cell_type": "code",
   "execution_count": 13,
   "metadata": {},
   "outputs": [
    {
     "name": "stdout",
     "output_type": "stream",
     "text": [
      "[5.505e+05 4.269e+03 9.176e+02 1.383e+07 7.976e+02 5.975e+02 1.604e+03\n",
      " 9.867e+02 6.271e+02 1.479e+07 2.526e+02 2.069e+02 3.097e+02 1.685e+02\n",
      " 1.949e+03]\n",
      "[[2851218       0       7 ...     233  500001    4403]\n",
      " [2838330       1      10 ...     233  226022    4444]\n",
      " [2835781       1       2 ...     233  110018    4388]\n",
      " ...\n",
      " [2999232       3       2 ...     233  110085    4550]\n",
      " [2980326      16       2 ...     233  500030    4478]\n",
      " [2973922       1       2 ...     233  122001    4388]]\n"
     ]
    },
    {
     "ename": "KeyError",
     "evalue": "\"None of [Index([ (2851218, 0, 7, 500004, 233, 0, 0, 233, 500001, 4403),\\n       (2838330, 1, 10, 226010, 233, 0, 0, 233, 226022, 4444),\\n        (2835781, 1, 2, 110018, 233, 0, 0, 233, 110018, 4388),\\n        (2838589, 2, 2, 110018, 233, 0, 1, 233, 124001, 4092),\\n       (2855214, 0, 21, 110015, 233, 0, 0, 233, 201301, 4580),\\n       (2852784, 0, 21, 110015, 233, 0, 1, 233, 132001, 4580),\\n        (2844713, 3, 2, 110018, 233, 0, 0, 233, 110059, 4094),\\n        (2829719, 3, 6, 160059, 233, 0, 1, 233, 151001, 4549),\\n        (2833619, 0, 3, 560011, 201, 0, 0, 233, 560076, 4467),\\n        (2870579, 1, 5, 380009, 233, 0, 1, 233, 390006, 4422),\\n       ...\\n       (3016763, 0, 26, 560066, 233, 0, 0, 233, 560037, 5001),\\n        (2981238, 0, 8, 700064, 233, 0, 0, 233, 700014, 4508),\\n        (3072593, 3, 8, 700064, 233, 0, 0, 233, 700007, 4511),\\n       (2830968, 0, 17, 800001, 201, 0, 3, 201, 815353, 4410),\\n       (2863463, 22, 1, 400059, 233, 0, 1, 233, 452001, 4008),\\n        (2949680, 1, 2, 110018, 233, 0, 0, 233, 110032, 4388),\\n        (2971901, 5, 1, 400059, 233, 0, 0, 233, 400076, 4011),\\n        (2999232, 3, 2, 110018, 233, 0, 0, 233, 110085, 4550),\\n       (2980326, 16, 2, 110018, 233, 0, 0, 233, 500030, 4478),\\n        (2973922, 1, 2, 110018, 308, 0, 0, 233, 122001, 4388)],\\n      dtype='object', length=6250)] are in the [columns]\"",
     "output_type": "error",
     "traceback": [
      "\u001b[1;31m---------------------------------------------------------------------------\u001b[0m",
      "\u001b[1;31mKeyError\u001b[0m                                  Traceback (most recent call last)",
      "\u001b[1;32m<ipython-input-13-0c5466b8616c>\u001b[0m in \u001b[0;36m<module>\u001b[1;34m\u001b[0m\n\u001b[0;32m     28\u001b[0m \u001b[0mprint\u001b[0m\u001b[1;33m(\u001b[0m\u001b[0mfeature_cols\u001b[0m\u001b[1;33m)\u001b[0m\u001b[1;33m\u001b[0m\u001b[1;33m\u001b[0m\u001b[0m\n\u001b[0;32m     29\u001b[0m \u001b[1;33m\u001b[0m\u001b[0m\n\u001b[1;32m---> 30\u001b[1;33m \u001b[0mX\u001b[0m\u001b[1;33m=\u001b[0m\u001b[0mdata\u001b[0m\u001b[1;33m[\u001b[0m\u001b[0mfeature_cols\u001b[0m\u001b[1;33m]\u001b[0m\u001b[1;33m\u001b[0m\u001b[1;33m\u001b[0m\u001b[0m\n\u001b[0m\u001b[0;32m     31\u001b[0m \u001b[1;31m#s=data2[feature_cols]\u001b[0m\u001b[1;33m\u001b[0m\u001b[1;33m\u001b[0m\u001b[1;33m\u001b[0m\u001b[0m\n\u001b[0;32m     32\u001b[0m \u001b[0mX\u001b[0m\u001b[1;33m.\u001b[0m\u001b[0mdropna\u001b[0m\u001b[1;33m(\u001b[0m\u001b[0minplace\u001b[0m\u001b[1;33m=\u001b[0m\u001b[1;32mTrue\u001b[0m\u001b[1;33m)\u001b[0m\u001b[1;33m\u001b[0m\u001b[1;33m\u001b[0m\u001b[0m\n",
      "\u001b[1;32mE:\\anaconda\\lib\\site-packages\\pandas\\core\\frame.py\u001b[0m in \u001b[0;36m__getitem__\u001b[1;34m(self, key)\u001b[0m\n\u001b[0;32m   2932\u001b[0m                 \u001b[0mkey\u001b[0m \u001b[1;33m=\u001b[0m \u001b[0mlist\u001b[0m\u001b[1;33m(\u001b[0m\u001b[0mkey\u001b[0m\u001b[1;33m)\u001b[0m\u001b[1;33m\u001b[0m\u001b[1;33m\u001b[0m\u001b[0m\n\u001b[0;32m   2933\u001b[0m             indexer = self.loc._convert_to_indexer(key, axis=1,\n\u001b[1;32m-> 2934\u001b[1;33m                                                    raise_missing=True)\n\u001b[0m\u001b[0;32m   2935\u001b[0m \u001b[1;33m\u001b[0m\u001b[0m\n\u001b[0;32m   2936\u001b[0m         \u001b[1;31m# take() does not accept boolean indexers\u001b[0m\u001b[1;33m\u001b[0m\u001b[1;33m\u001b[0m\u001b[1;33m\u001b[0m\u001b[0m\n",
      "\u001b[1;32mE:\\anaconda\\lib\\site-packages\\pandas\\core\\indexing.py\u001b[0m in \u001b[0;36m_convert_to_indexer\u001b[1;34m(self, obj, axis, is_setter, raise_missing)\u001b[0m\n\u001b[0;32m   1352\u001b[0m                 kwargs = {'raise_missing': True if is_setter else\n\u001b[0;32m   1353\u001b[0m                           raise_missing}\n\u001b[1;32m-> 1354\u001b[1;33m                 \u001b[1;32mreturn\u001b[0m \u001b[0mself\u001b[0m\u001b[1;33m.\u001b[0m\u001b[0m_get_listlike_indexer\u001b[0m\u001b[1;33m(\u001b[0m\u001b[0mobj\u001b[0m\u001b[1;33m,\u001b[0m \u001b[0maxis\u001b[0m\u001b[1;33m,\u001b[0m \u001b[1;33m**\u001b[0m\u001b[0mkwargs\u001b[0m\u001b[1;33m)\u001b[0m\u001b[1;33m[\u001b[0m\u001b[1;36m1\u001b[0m\u001b[1;33m]\u001b[0m\u001b[1;33m\u001b[0m\u001b[1;33m\u001b[0m\u001b[0m\n\u001b[0m\u001b[0;32m   1355\u001b[0m         \u001b[1;32melse\u001b[0m\u001b[1;33m:\u001b[0m\u001b[1;33m\u001b[0m\u001b[1;33m\u001b[0m\u001b[0m\n\u001b[0;32m   1356\u001b[0m             \u001b[1;32mtry\u001b[0m\u001b[1;33m:\u001b[0m\u001b[1;33m\u001b[0m\u001b[1;33m\u001b[0m\u001b[0m\n",
      "\u001b[1;32mE:\\anaconda\\lib\\site-packages\\pandas\\core\\indexing.py\u001b[0m in \u001b[0;36m_get_listlike_indexer\u001b[1;34m(self, key, axis, raise_missing)\u001b[0m\n\u001b[0;32m   1159\u001b[0m         self._validate_read_indexer(keyarr, indexer,\n\u001b[0;32m   1160\u001b[0m                                     \u001b[0mo\u001b[0m\u001b[1;33m.\u001b[0m\u001b[0m_get_axis_number\u001b[0m\u001b[1;33m(\u001b[0m\u001b[0maxis\u001b[0m\u001b[1;33m)\u001b[0m\u001b[1;33m,\u001b[0m\u001b[1;33m\u001b[0m\u001b[1;33m\u001b[0m\u001b[0m\n\u001b[1;32m-> 1161\u001b[1;33m                                     raise_missing=raise_missing)\n\u001b[0m\u001b[0;32m   1162\u001b[0m         \u001b[1;32mreturn\u001b[0m \u001b[0mkeyarr\u001b[0m\u001b[1;33m,\u001b[0m \u001b[0mindexer\u001b[0m\u001b[1;33m\u001b[0m\u001b[1;33m\u001b[0m\u001b[0m\n\u001b[0;32m   1163\u001b[0m \u001b[1;33m\u001b[0m\u001b[0m\n",
      "\u001b[1;32mE:\\anaconda\\lib\\site-packages\\pandas\\core\\indexing.py\u001b[0m in \u001b[0;36m_validate_read_indexer\u001b[1;34m(self, key, indexer, axis, raise_missing)\u001b[0m\n\u001b[0;32m   1244\u001b[0m                 raise KeyError(\n\u001b[0;32m   1245\u001b[0m                     u\"None of [{key}] are in the [{axis}]\".format(\n\u001b[1;32m-> 1246\u001b[1;33m                         key=key, axis=self.obj._get_axis_name(axis)))\n\u001b[0m\u001b[0;32m   1247\u001b[0m \u001b[1;33m\u001b[0m\u001b[0m\n\u001b[0;32m   1248\u001b[0m             \u001b[1;31m# We (temporarily) allow for some missing keys with .loc, except in\u001b[0m\u001b[1;33m\u001b[0m\u001b[1;33m\u001b[0m\u001b[1;33m\u001b[0m\u001b[0m\n",
      "\u001b[1;31mKeyError\u001b[0m: \"None of [Index([ (2851218, 0, 7, 500004, 233, 0, 0, 233, 500001, 4403),\\n       (2838330, 1, 10, 226010, 233, 0, 0, 233, 226022, 4444),\\n        (2835781, 1, 2, 110018, 233, 0, 0, 233, 110018, 4388),\\n        (2838589, 2, 2, 110018, 233, 0, 1, 233, 124001, 4092),\\n       (2855214, 0, 21, 110015, 233, 0, 0, 233, 201301, 4580),\\n       (2852784, 0, 21, 110015, 233, 0, 1, 233, 132001, 4580),\\n        (2844713, 3, 2, 110018, 233, 0, 0, 233, 110059, 4094),\\n        (2829719, 3, 6, 160059, 233, 0, 1, 233, 151001, 4549),\\n        (2833619, 0, 3, 560011, 201, 0, 0, 233, 560076, 4467),\\n        (2870579, 1, 5, 380009, 233, 0, 1, 233, 390006, 4422),\\n       ...\\n       (3016763, 0, 26, 560066, 233, 0, 0, 233, 560037, 5001),\\n        (2981238, 0, 8, 700064, 233, 0, 0, 233, 700014, 4508),\\n        (3072593, 3, 8, 700064, 233, 0, 0, 233, 700007, 4511),\\n       (2830968, 0, 17, 800001, 201, 0, 3, 201, 815353, 4410),\\n       (2863463, 22, 1, 400059, 233, 0, 1, 233, 452001, 4008),\\n        (2949680, 1, 2, 110018, 233, 0, 0, 233, 110032, 4388),\\n        (2971901, 5, 1, 400059, 233, 0, 0, 233, 400076, 4011),\\n        (2999232, 3, 2, 110018, 233, 0, 0, 233, 110085, 4550),\\n       (2980326, 16, 2, 110018, 233, 0, 0, 233, 500030, 4478),\\n        (2973922, 1, 2, 110018, 308, 0, 0, 233, 122001, 4388)],\\n      dtype='object', length=6250)] are in the [columns]\""
     ]
    }
   ],
   "source": [
    "import pandas as pd\n",
    "import numpy\n",
    "from sklearn import metrics\n",
    "from sklearn.feature_selection import SelectKBest\n",
    "from sklearn.feature_selection import chi2\n",
    "data=pd.read_csv(\"problem_2_train.csv\")\n",
    "\n",
    "data['mobilepurchasedate']=pd.to_datetime(data['mobilepurchasedate']).dt.day\n",
    "data['memcreateddate']=pd.to_datetime(data['memcreateddate']).dt.day\n",
    "data['claimintdate']=pd.to_datetime(data['claimintdate']).dt.day\n",
    "data['pickupStartdate']=pd.to_datetime(data['pickupStartdate']).dt.day\n",
    "mob_dict=dict(zip(data['mobmake'].unique(),range(len(data['mobmake'].unique()))))\n",
    "data['mob_make_code']=data['mobmake'].map(mob_dict)\n",
    "pin_dict=dict(zip(data['custpincodecategory'].unique(),range(len(data['custpincodecategory'].unique()))))\n",
    "data['custpincodecategory_code']=data['custpincodecategory'].map(pin_dict)\n",
    "data['claimtype_code']=data['claimtype'].map({'ADLD':0,'EW':1})\n",
    "\n",
    "X = data[['srno','mob_make_code','hubid','hubpincode','pickuppartnerid','insuranceCompanyId','claimtype_code','custpincodecategory_code','deliverypartnerid','custpincode','mobilepurchasedate','memcreateddate','claimintdate','pickupStartdate','servicecntrid']]\n",
    "Y = data['tat_in_days']\n",
    "# feature extraction\n",
    "test = SelectKBest(score_func=chi2, k=10)\n",
    "fit = test.fit(X, Y)\n",
    "# summarize scores\n",
    "numpy.set_printoptions(precision=3)\n",
    "print(fit.scores_)\n",
    "feature_cols = fit.transform(X)\n",
    "# summarize selected features\n",
    "print(feature_cols)\n",
    "\n",
    "X=data[feature_cols]\n",
    "#s=data2[feature_cols]\n",
    "X.dropna(inplace=True)\n",
    "X.isnull().sum()\n",
    "y=data['tat_in_days']\n",
    "y.isnull().sum()\n",
    "from sklearn.model_selection import train_test_split\n",
    "X_train,X_test,y_train,y_test = train_test_split(X,y,random_state=1)\n",
    "\n",
    "#X_train,X_test,y_train,y_test = train_test_split(s,y,test_size=1.0,random_state=1)\n",
    "\n",
    "from sklearn.linear_model import LinearRegression\n",
    "#instantiate\n",
    "linreg=LinearRegression()\n",
    "#train model to fit the data\n",
    "linreg.fit(X_train,y_train)\n",
    "# print(\"Intercept::\",linreg.intercept_)\n",
    "# print(\"All coefficients::\",linreg.coef_)\n",
    "list(zip(feature_cols,linreg.coef_))\n",
    "\n",
    "#predicting on testing data\n",
    "y_pred=linreg.predict(X_test)\n",
    "\n",
    "\n",
    "import numpy as np\n",
    "from sklearn.metrics import mean_squared_error\n",
    "from sklearn.metrics import r2_score\n",
    "print(\"root mean square:\",np.sqrt(mean_squared_error(y_test, y_pred)))\n",
    "print(y_pred)\n",
    "X.describe()\n",
    "r2_score(y_test, y_pred)"
   ]
  }
 ],
 "metadata": {
  "kernelspec": {
   "display_name": "Python 3",
   "language": "python",
   "name": "python3"
  },
  "language_info": {
   "codemirror_mode": {
    "name": "ipython",
    "version": 3
   },
   "file_extension": ".py",
   "mimetype": "text/x-python",
   "name": "python",
   "nbconvert_exporter": "python",
   "pygments_lexer": "ipython3",
   "version": "3.7.3"
  }
 },
 "nbformat": 4,
 "nbformat_minor": 2
}
