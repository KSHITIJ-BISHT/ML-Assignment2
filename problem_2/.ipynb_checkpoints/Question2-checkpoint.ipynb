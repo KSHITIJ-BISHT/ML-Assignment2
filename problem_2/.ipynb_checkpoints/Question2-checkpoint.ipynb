{
 "cells": [
  {
   "cell_type": "code",
   "execution_count": 291,
   "metadata": {},
   "outputs": [],
   "source": [
    "#Predicting values of tat_in_days column values.\n",
    "import pandas as pd\n",
    "from sklearn import metrics\n",
    "import matplotlib.pyplot as plt\n",
    "data=pd.read_csv(\"problem_2_train.csv\")\n",
    "data2=pd.read_csv(\"problem_2_test.csv\")"
   ]
  },
  {
   "cell_type": "code",
   "execution_count": 292,
   "metadata": {},
   "outputs": [
    {
     "name": "stderr",
     "output_type": "stream",
     "text": [
      "E:\\anaconda\\lib\\site-packages\\ipykernel_launcher.py:17: SettingWithCopyWarning: \n",
      "A value is trying to be set on a copy of a slice from a DataFrame\n",
      "\n",
      "See the caveats in the documentation: http://pandas.pydata.org/pandas-docs/stable/indexing.html#indexing-view-versus-copy\n"
     ]
    },
    {
     "name": "stdout",
     "output_type": "stream",
     "text": [
      "Intercept:: 55.65534845055299\n",
      "All coefficients:: [-1.09893142e-05  2.48020516e-01  1.23268502e-02 -4.35084447e-06\n",
      "  1.40916120e-03 -3.47785723e-03  1.74812650e+01  1.38545401e+00\n",
      " -4.76740102e-03  4.70996257e-06 -2.49520996e-03]\n",
      "\n",
      "root mean square: 4.763303423146556\n",
      "\n",
      "Predictions: [12.0, 11.0, 17.0, 12.0, 12.0, 14.0, 14.0, 12.0, 14.0, 12.0, 15.0, 12.0, 13.0, 16.0, 20.0, 11.0, 13.0, 15.0, 12.0, 11.0, 12.0, 16.0, 12.0, 13.0, 13.0, 16.0, 19.0, 12.0, 12.0, 12.0, 13.0, 11.0, 14.0, 12.0, 14.0, 12.0, 12.0, 14.0, 13.0, 12.0, 16.0, 10.0, 16.0, 16.0, 12.0, 10.0, 14.0, 15.0, 10.0, 12.0, 11.0, 15.0, 14.0, 12.0, 17.0, 15.0, 19.0, 11.0, 14.0, 10.0, 15.0, 16.0, 14.0, 11.0, 12.0, 13.0, 12.0, 10.0, 12.0, 12.0, 11.0, 16.0, 14.0, 12.0, 13.0, 11.0, 13.0, 11.0, 12.0, 13.0, 15.0, 14.0, 11.0, 12.0, 15.0, 12.0, 10.0, 14.0, 13.0, 13.0, 13.0, 11.0, 12.0, 16.0, 14.0, 16.0, 13.0, 11.0, 17.0, 12.0, 12.0, 15.0, 11.0, 11.0, 14.0, 13.0, 11.0, 11.0, 16.0, 16.0, 12.0, 14.0, 16.0, 16.0, 14.0, 14.0, 10.0, 12.0, 12.0, 11.0, 10.0, 11.0, 14.0, 11.0, 13.0, 14.0, 15.0, 12.0, 13.0, 11.0, 12.0, 11.0, 16.0, 13.0, 12.0, 15.0, 11.0, 16.0, 13.0, 13.0, 10.0, 10.0, 11.0, 11.0, 21.0, 11.0, 15.0, 14.0, 9.0, 17.0, 12.0, 17.0, 15.0, 15.0, 21.0, 14.0, 13.0, 11.0, 15.0, 11.0, 11.0, 12.0, 11.0, 12.0, 11.0, 15.0, 12.0, 21.0, 13.0, 11.0, 11.0, 13.0, 14.0, 10.0, 19.0, 15.0, 15.0, 13.0, 11.0, 11.0, 12.0, 11.0, 10.0, 13.0, 12.0, 13.0, 11.0, 18.0, 14.0, 11.0, 13.0, 11.0, 12.0, 11.0, 12.0, 12.0, 10.0, 16.0, 15.0, 10.0, 11.0, 11.0, 15.0, 10.0, 20.0, 14.0, 15.0, 12.0, 12.0, 13.0, 13.0, 13.0, 10.0, 10.0, 17.0, 12.0, 10.0, 17.0, 12.0, 10.0, 12.0, 11.0, 14.0, 12.0, 12.0, 12.0, 12.0, 11.0, 16.0, 17.0, 15.0, 16.0, 10.0, 11.0, 12.0, 11.0, 9.0, 15.0, 13.0, 14.0, 11.0, 11.0, 16.0, 10.0, 13.0, 11.0, 16.0, 11.0, 15.0, 17.0, 10.0, 11.0, 15.0, 11.0, 15.0, 14.0, 15.0, 13.0, 10.0, 12.0, 9.0, 13.0, 11.0, 16.0, 13.0, 12.0, 14.0, 12.0, 17.0, 12.0, 12.0, 15.0, 12.0, 12.0, 16.0, 11.0, 12.0, 10.0, 14.0, 10.0, 11.0, 12.0, 10.0, 11.0, 14.0, 13.0, 14.0, 12.0, 11.0, 10.0, 16.0, 12.0, 11.0, 16.0, 13.0, 10.0, 12.0, 10.0, 12.0, 14.0, 13.0, 11.0, 11.0, 11.0, 12.0, 17.0, 12.0, 13.0, 12.0, 13.0, 12.0, 13.0, 13.0, 12.0, 14.0, 12.0, 16.0, 9.0, 12.0, 13.0, 12.0, 14.0, 11.0, 12.0, 12.0, 13.0, 14.0, 12.0, 13.0, 10.0, 11.0, 14.0, 12.0, 11.0, 15.0, 14.0, 14.0, 11.0, 13.0, 19.0, 14.0, 9.0, 11.0, 12.0, 13.0, 12.0, 19.0, 13.0, 13.0, 16.0, 12.0, 14.0, 10.0, 21.0, 12.0, 16.0, 14.0, 12.0, 12.0, 12.0, 12.0, 11.0, 17.0, 11.0, 14.0, 19.0, 9.0, 14.0, 14.0, 13.0, 11.0, 10.0, 11.0, 13.0, 13.0, 12.0, 11.0, 14.0, 13.0, 14.0, 12.0, 11.0, 12.0, 12.0, 11.0, 12.0, 13.0, 9.0, 15.0, 12.0, 13.0, 10.0, 10.0, 12.0, 17.0, 20.0, 9.0, 11.0, 9.0, 11.0, 19.0, 17.0, 15.0, 10.0, 11.0, 16.0, 12.0, 14.0, 21.0, 10.0, 13.0, 9.0, 13.0, 10.0, 11.0, 10.0, 18.0, 11.0, 12.0, 12.0, 14.0, 13.0, 17.0, 13.0, 14.0, 11.0, 10.0, 11.0, 13.0, 13.0, 10.0, 11.0, 17.0, 12.0, 12.0, 11.0, 12.0, 17.0, 12.0, 12.0, 11.0, 18.0, 10.0, 13.0, 15.0, 14.0, 13.0, 14.0, 10.0, 11.0, 12.0, 11.0, 11.0, 14.0, 12.0, 12.0, 10.0, 12.0, 13.0, 11.0, 10.0, 14.0, 12.0, 10.0, 15.0, 14.0, 13.0, 11.0, 11.0, 12.0, 13.0, 16.0, 10.0, 12.0, 12.0, 15.0, 14.0, 15.0, 13.0, 12.0, 11.0, 12.0, 12.0, 12.0, 15.0, 11.0, 13.0, 28.0, 15.0, 12.0, 11.0, 11.0, 13.0, 14.0, 10.0, 10.0, 14.0, 12.0, 13.0, 12.0, 9.0, 11.0, 10.0, 14.0, 12.0, 13.0, 12.0, 16.0, 11.0, 15.0, 10.0, 12.0, 14.0, 14.0, 13.0, 12.0, 13.0, 17.0, 12.0, 13.0, 11.0, 12.0, 14.0, 16.0, 20.0, 12.0, 11.0, 14.0, 14.0, 13.0, 16.0, 11.0, 13.0, 12.0, 12.0, 11.0, 10.0, 12.0, 19.0, 12.0, 15.0, 12.0, 12.0, 16.0, 13.0, 14.0, 16.0, 11.0, 12.0, 10.0, 10.0, 10.0, 16.0, 10.0, 12.0, 13.0, 15.0, 15.0, 10.0, 10.0, 12.0, 11.0, 12.0, 12.0, 11.0, 11.0, 13.0, 10.0, 11.0, 11.0, 12.0, 12.0, 15.0, 12.0, 14.0, 17.0, 12.0, 12.0, 12.0, 11.0, 15.0, 14.0, 14.0, 14.0, 14.0, 10.0, 13.0, 12.0, 13.0, 11.0, 14.0, 17.0, 15.0, 11.0, 14.0, 12.0, 15.0, 11.0, 18.0, 13.0, 10.0, 12.0, 17.0, 16.0, 12.0, 15.0, 12.0, 17.0, 13.0, 11.0, 14.0, 14.0, 12.0, 12.0, 18.0, 13.0, 13.0, 12.0, 12.0, 12.0, 10.0, 12.0, 11.0, 11.0, 12.0, 15.0, 18.0, 12.0, 11.0, 11.0, 18.0, 11.0, 12.0, 10.0, 17.0, 13.0, 14.0, 10.0, 15.0, 10.0, 11.0, 16.0, 13.0, 12.0, 16.0, 11.0, 11.0, 13.0, 10.0, 11.0, 12.0, 11.0, 10.0, 11.0, 12.0, 12.0, 10.0, 15.0, 12.0, 14.0, 11.0, 17.0, 10.0, 10.0, 14.0, 10.0, 12.0, 10.0, 13.0, 11.0, 14.0, 15.0, 17.0, 14.0, 12.0, 12.0, 11.0, 9.0, 10.0, 14.0, 14.0, 12.0, 11.0, 15.0, 11.0, 11.0, 11.0, 13.0, 12.0, 12.0, 10.0, 12.0, 11.0, 12.0, 13.0, 11.0, 12.0, 10.0, 13.0, 12.0, 14.0, 14.0, 11.0, 12.0, 13.0, 11.0, 11.0, 12.0, 12.0, 11.0, 12.0, 10.0, 10.0, 13.0, 14.0, 13.0, 13.0, 17.0, 12.0, 14.0, 11.0, 12.0, 12.0, 11.0, 11.0, 10.0, 12.0, 11.0, 14.0, 14.0, 10.0, 12.0, 12.0, 14.0, 15.0, 9.0, 11.0, 13.0, 12.0, 11.0, 16.0, 14.0, 13.0, 13.0, 12.0, 10.0, 15.0, 13.0, 10.0, 12.0, 12.0, 16.0, 10.0, 14.0, 9.0, 13.0, 18.0, 9.0, 14.0, 17.0, 14.0, 14.0, 13.0, 15.0, 10.0, 12.0, 10.0, 14.0, 18.0, 14.0, 10.0, 15.0, 14.0, 9.0, 13.0, 14.0, 11.0, 13.0, 11.0, 12.0, 10.0, 11.0, 12.0, 15.0, 12.0, 11.0, 10.0, 10.0, 10.0, 11.0, 19.0, 13.0, 12.0, 13.0, 13.0, 15.0, 12.0, 13.0, 11.0, 9.0, 11.0, 12.0, 12.0, 12.0, 13.0, 15.0, 15.0, 11.0, 12.0, 11.0, 11.0, 14.0, 14.0, 12.0, 11.0, 16.0, 13.0, 11.0, 10.0, 17.0, 11.0, 13.0, 12.0, 9.0, 14.0, 14.0, 12.0, 10.0, 13.0, 11.0, 10.0, 13.0, 16.0, 10.0, 15.0, 13.0, 11.0, 14.0, 15.0, 12.0, 11.0, 18.0, 12.0, 15.0, 12.0, 12.0, 12.0, 14.0, 13.0, 12.0, 10.0, 12.0, 12.0, 13.0, 12.0, 13.0, 17.0, 20.0, 18.0, 14.0, 10.0, 13.0, 12.0, 12.0, 10.0, 13.0, 12.0, 13.0, 12.0, 13.0, 14.0, 11.0, 10.0, 12.0, 11.0, 12.0, 12.0, 14.0, 13.0, 15.0, 12.0, 13.0, 10.0, 10.0, 16.0, 15.0, 15.0, 12.0, 10.0, 12.0, 12.0, 14.0, 12.0, 17.0, 14.0, 10.0, 16.0, 10.0, 12.0, 11.0, 12.0, 11.0, 15.0, 15.0, 13.0, 15.0, 12.0, 15.0, 18.0, 17.0, 12.0, 14.0, 9.0, 11.0, 17.0, 11.0, 19.0, 10.0, 12.0, 12.0, 14.0, 12.0, 14.0, 12.0, 12.0, 14.0, 11.0, 12.0, 10.0, 11.0, 12.0, 16.0, 12.0, 11.0, 11.0, 12.0, 12.0, 17.0, 10.0, 11.0, 16.0, 10.0, 19.0, 12.0, 10.0, 18.0, 12.0, 12.0, 13.0, 23.0, 12.0, 19.0, 19.0, 9.0, 14.0, 13.0, 11.0, 13.0, 14.0, 14.0, 12.0, 15.0, 12.0, 11.0, 14.0, 10.0, 15.0, 13.0, 12.0, 11.0, 16.0, 17.0, 13.0, 14.0, 11.0, 12.0, 12.0, 13.0, 11.0, 15.0, 19.0, 13.0, 17.0, 13.0, 12.0, 14.0, 13.0, 12.0, 14.0, 12.0, 12.0, 12.0, 12.0, 17.0, 11.0, 11.0, 14.0, 17.0, 12.0, 12.0, 12.0, 11.0, 10.0, 15.0, 10.0, 10.0, 11.0, 10.0, 11.0, 12.0, 12.0, 11.0, 12.0, 12.0, 12.0, 11.0, 16.0, 11.0, 12.0, 11.0, 14.0, 14.0, 13.0, 13.0, 12.0, 13.0, 11.0, 9.0, 10.0, 10.0, 12.0, 13.0, 11.0, 17.0, 14.0, 12.0, 14.0, 15.0, 13.0, 11.0, 12.0, 14.0, 11.0, 11.0, 11.0, 11.0, 17.0, 13.0, 11.0, 12.0, 12.0, 12.0, 13.0, 17.0, 14.0, 12.0, 18.0, 11.0, 13.0, 12.0, 12.0, 14.0, 11.0, 14.0, 12.0, 14.0, 11.0, 9.0, 12.0, 11.0, 11.0, 12.0, 12.0, 12.0, 13.0, 10.0, 12.0, 11.0, 14.0, 10.0, 9.0, 12.0, 10.0, 11.0, 11.0, 12.0, 11.0, 12.0, 12.0, 16.0, 12.0, 10.0, 12.0, 15.0, 12.0, 12.0, 11.0, 12.0, 12.0, 13.0, 13.0, 14.0, 12.0, 10.0, 11.0, 12.0, 13.0, 12.0, 18.0, 14.0, 12.0, 12.0, 13.0, 11.0, 20.0, 17.0, 12.0, 12.0, 15.0, 13.0, 10.0, 14.0, 11.0, 11.0, 15.0, 12.0, 10.0, 12.0, 15.0, 12.0, 11.0, 11.0, 13.0, 11.0, 13.0, 15.0, 15.0, 12.0, 14.0, 11.0, 13.0, 14.0, 12.0, 13.0, 17.0, 14.0, 12.0, 17.0, 12.0, 11.0, 11.0, 15.0, 11.0, 11.0, 16.0, 13.0, 18.0, 15.0, 9.0, 13.0, 10.0, 15.0, 15.0, 13.0, 13.0, 13.0, 10.0, 14.0, 11.0, 10.0, 13.0, 12.0, 13.0, 16.0, 13.0, 10.0, 16.0, 13.0, 9.0, 13.0, 14.0, 14.0, 10.0, 11.0, 14.0, 18.0, 10.0, 11.0, 13.0, 11.0, 14.0, 12.0, 10.0, 13.0, 15.0, 11.0, 10.0, 12.0, 15.0, 12.0, 12.0, 10.0, 12.0, 10.0, 12.0, 12.0, 18.0, 12.0, 13.0, 13.0, 19.0, 12.0, 10.0, 12.0, 12.0, 13.0, 12.0, 11.0, 12.0, 12.0, 13.0, 12.0, 12.0, 13.0, 15.0, 13.0, 13.0, 14.0, 13.0, 14.0, 14.0, 12.0, 15.0, 16.0, 15.0, 15.0, 14.0, 13.0, 14.0, 11.0, 12.0, 10.0, 12.0, 12.0, 14.0, 11.0, 12.0, 10.0, 17.0, 11.0, 11.0, 18.0, 12.0, 11.0, 11.0, 14.0, 16.0, 10.0, 17.0, 11.0, 13.0, 10.0, 12.0, 11.0, 12.0, 10.0, 16.0, 13.0, 14.0, 15.0, 11.0, 12.0, 11.0, 12.0, 13.0, 12.0, 12.0, 12.0, 18.0, 16.0, 12.0, 11.0, 11.0, 11.0, 12.0, 12.0, 11.0, 12.0, 10.0, 17.0, 10.0, 11.0, 11.0, 13.0, 11.0, 12.0, 13.0, 16.0, 12.0, 12.0, 11.0, 10.0, 11.0, 10.0, 13.0, 10.0, 13.0, 13.0, 13.0, 11.0, 13.0, 14.0, 13.0, 13.0, 14.0, 11.0, 16.0, 14.0, 12.0, 10.0, 14.0, 15.0, 13.0, 12.0, 13.0, 11.0, 15.0, 13.0, 16.0, 14.0, 14.0, 10.0, 15.0, 16.0, 15.0, 13.0, 15.0, 12.0, 11.0, 11.0, 11.0, 14.0, 12.0, 10.0, 15.0, 10.0, 12.0, 16.0, 13.0, 14.0, 14.0, 13.0, 11.0, 10.0, 12.0, 11.0, 13.0, 10.0, 12.0, 11.0, 13.0, 11.0, 10.0, 12.0, 9.0, 11.0, 13.0, 11.0, 12.0, 18.0, 13.0, 13.0, 10.0, 11.0, 14.0, 13.0, 15.0, 14.0, 12.0, 13.0, 13.0, 11.0, 12.0, 12.0, 12.0, 10.0, 12.0, 11.0, 12.0, 12.0, 10.0, 14.0, 11.0, 13.0, 14.0, 17.0, 13.0, 12.0, 11.0, 12.0, 16.0, 17.0, 11.0, 12.0, 10.0, 13.0, 16.0, 12.0, 16.0, 13.0, 12.0, 10.0, 19.0, 12.0, 17.0, 11.0, 11.0, 12.0, 9.0, 15.0, 13.0, 15.0, 13.0, 10.0, 12.0, 11.0, 11.0, 17.0, 13.0, 9.0, 12.0, 14.0, 13.0, 13.0, 13.0, 16.0, 14.0, 14.0, 12.0, 15.0, 13.0, 12.0, 12.0, 11.0, 10.0, 11.0, 10.0, 12.0, 16.0, 17.0, 18.0, 10.0, 13.0, 12.0, 10.0, 12.0, 14.0, 11.0, 14.0, 15.0, 14.0, 13.0, 15.0, 13.0, 10.0, 12.0, 10.0, 11.0, 11.0, 20.0, 21.0, 12.0, 13.0, 14.0, 11.0, 12.0, 11.0, 9.0, 12.0, 9.0, 11.0, 13.0, 10.0, 12.0, 12.0, 11.0, 14.0, 14.0, 11.0, 9.0, 13.0, 10.0, 11.0, 10.0, 10.0, 17.0, 12.0, 12.0, 14.0, 13.0, 15.0, 12.0, 12.0, 12.0, 13.0, 11.0, 14.0, 15.0, 12.0, 19.0, 13.0, 14.0, 11.0, 13.0, 12.0, 11.0, 15.0, 13.0, 14.0, 13.0, 13.0, 13.0, 12.0, 13.0, 14.0, 16.0, 12.0, 12.0, 14.0, 14.0, 11.0, 12.0, 10.0, 12.0, 11.0, 14.0, 11.0, 13.0, 21.0, 12.0, 13.0, 17.0, 12.0, 10.0, 16.0, 11.0, 12.0, 15.0, 12.0, 10.0, 11.0, 13.0, 12.0, 10.0, 16.0, 9.0, 12.0, 11.0, 15.0, 11.0, 13.0, 12.0, 12.0]\n"
     ]
    },
    {
     "data": {
      "image/png": "[encoded data removed]",
      "text/plain": [
       "<Figure size 432x288 with 1 Axes>"
      ]
     },
     "metadata": {
      "needs_background": "light"
     },
     "output_type": "display_data"
    }
   ],
   "source": [
    "#Modifying the data for selection\n",
    "data['mobilepurchasedate']=pd.to_datetime(data['mobilepurchasedate']).dt.day\n",
    "data['memcreateddate']=pd.to_datetime(data['memcreateddate']).dt.day\n",
    "data['claimintdate']=pd.to_datetime(data['claimintdate']).dt.day\n",
    "data['pickupStartdate']=pd.to_datetime(data['pickupStartdate']).dt.day\n",
    "mob_dict=dict(zip(data['mobmake'].unique(),range(len(data['mobmake'].unique()))))\n",
    "data['mob_make_code']=data['mobmake'].map(mob_dict)\n",
    "pin_dict=dict(zip(data['custpincodecategory'].unique(),range(len(data['custpincodecategory'].unique()))))\n",
    "data['custpincodecategory_code']=data['custpincodecategory'].map(pin_dict)\n",
    "data['claimtype_code']=data['claimtype'].map({'ADLD':0,'EW':1})\n",
    "\n",
    "#selecting features\n",
    "feature_cols=['srno','mob_make_code','hubid','hubpincode','pickuppartnerid','insuranceCompanyId','claimtype_code','custpincodecategory_code','deliverypartnerid','custpincode','servicecntrid']\n",
    "X=data[feature_cols]\n",
    "\n",
    "#cleaning the data\n",
    "X.dropna(inplace=True)\n",
    "X.isnull().sum()\n",
    "y=data['tat_in_days']\n",
    "\n",
    "#showing the Scatter plot of few points for which the prediction is to be performed\n",
    "for i in range(100):\n",
    "     plt.scatter(y[i],i,color='blue')\n",
    "plt.xlabel(\"original values\")\n",
    "plt.ylabel(\"points\")\n",
    "        \n",
    "from sklearn.model_selection import train_test_split\n",
    "\n",
    "X_train,X_test,y_train,y_test = train_test_split(X,y,random_state=1)\n",
    "\n",
    "from sklearn.linear_model import LinearRegression\n",
    "#instantiate\n",
    "linreg=LinearRegression()\n",
    "\n",
    "#train model to fit the data\n",
    "linreg.fit(X_train,y_train)\n",
    "print(\"Intercept::\",linreg.intercept_)\n",
    "print(\"All coefficients::\",linreg.coef_)\n",
    "list(zip(feature_cols,linreg.coef_))\n",
    "print()\n",
    "#predicting on testing data\n",
    "y_pred=linreg.predict(X_test)\n",
    "y_pred=[round(x) for x in y_pred]\n",
    "\n",
    "#Calculating root mean squared value\n",
    "import numpy as np\n",
    "from sklearn.metrics import mean_squared_error\n",
    "\n",
    "print(\"root mean square:\",np.sqrt(mean_squared_error(y_test, y_pred)))\n",
    "print()\n",
    "print(\"Predictions:\",y_pred)\n",
    "\n",
    "  \n",
    "\n",
    "\n",
    "    "
   ]
  },
  {
   "cell_type": "code",
   "execution_count": null,
   "metadata": {},
   "outputs": [],
   "source": []
  },
  {
   "cell_type": "code",
   "execution_count": null,
   "metadata": {},
   "outputs": [],
   "source": []
  },
  {
   "cell_type": "code",
   "execution_count": null,
   "metadata": {},
   "outputs": [],
   "source": [
    "\n"
   ]
  }
 ],
 "metadata": {
  "kernelspec": {
   "display_name": "Python 3",
   "language": "python",
   "name": "python3"
  },
  "language_info": {
   "codemirror_mode": {
    "name": "ipython",
    "version": 3
   },
   "file_extension": ".py",
   "mimetype": "text/x-python",
   "name": "python",
   "nbconvert_exporter": "python",
   "pygments_lexer": "ipython3",
   "version": "3.7.3"
  }
 },
 "nbformat": 4,
 "nbformat_minor": 2
}
